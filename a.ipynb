{
 "cells": [
  {
   "cell_type": "markdown",
   "metadata": {},
   "source": [
    "# 建立User類別\n",
    "擁有 buy_stock、sell_stock\n"
   ]
  },
  {
   "cell_type": "code",
   "execution_count": 1,
   "metadata": {},
   "outputs": [
    {
     "name": "stderr",
     "output_type": "stream",
     "text": [
      "c:\\Users\\User\\anaconda3\\lib\\site-packages\\yfinance\\base.py:48: FutureWarning: The default dtype for empty Series will be 'object' instead of 'float64' in a future version. Specify a dtype explicitly to silence this warning.\n",
      "  _empty_series = pd.Series()\n"
     ]
    }
   ],
   "source": [
    "import pandas as pd\n",
    "import yfinance as yf\n",
    "import datetime as dt\n",
    "#建立user類別\n",
    "#屬性：使用者名稱、交割餘額、股票紀錄、手續費、持有股票\n",
    "#方法：買股票、賣股票、更新持有股票\n",
    "class User():\n",
    "\n",
    "    def __init__(self,name, balance=1000000):\n",
    "        self.name = name #使用者名稱\n",
    "        self.balance = balance #交割餘額\n",
    "        self.handling_fee = 0.001425 #手續費\n",
    "        self.auto = False #是否自動交易\n",
    "        \n",
    "        try:\n",
    "            self.__load_from_csv()\n",
    "        except:\n",
    "            self.position = pd.DataFrame(columns = ['stock_name','amount','price','avg_price']) #持有股票\n",
    "            self.record = pd.DataFrame(columns = ['date','stock_name','amount','price','avg_price']) #股票紀錄\n",
    "\n",
    "    def __save_to_csv(self, r_filename='record.csv',p_filename='position.csv'):\n",
    "        self.record.to_csv(self.name+r_filename, index=False)\n",
    "        self.position.to_csv(self.name+p_filename,index=False)\n",
    "\n",
    "    def __load_from_csv(self, r_filename='record.csv',p_filename='position.csv'):\n",
    "        self.record = pd.read_csv(self.name+r_filename)\n",
    "        self.position= pd.read_csv(self.name+p_filename)\n",
    "\n",
    "    def __update(self): # private 禁止外部使用，以防重複計算\n",
    "        \n",
    "        '''\n",
    "        Update the position based on the records.\n",
    "        '''\n",
    "        \n",
    "        if self.auto and not self.record.empty:\n",
    "            # Get the latest transaction\n",
    "            latest_transaction = self.record.iloc[-1]\n",
    "\n",
    "            # Check if the stock is already in the position\n",
    "            if latest_transaction['stock_name'] in self.position['stock_name'].values:\n",
    "                # Update the existing position\n",
    "                idx = self.position[self.position['stock_name'] == latest_transaction['stock_name']].index\n",
    "                self.position.loc[idx, 'amount'] += latest_transaction['amount']\n",
    "                self.position.loc[idx, 'price'] += latest_transaction['price']\n",
    "                self.position.loc[idx, 'avg_price'] = self.position.loc[idx, 'price'] / self.position.loc[idx, 'amount']\n",
    "                self.position = self.position[self.position['amount'] >0]\n",
    "            else:\n",
    "                new_row = pd.Series({'stock_name': latest_transaction['stock_name'],\n",
    "                    'amount': latest_transaction['amount'],\n",
    "                    'price': latest_transaction['price'],\n",
    "                    'avg_price': latest_transaction['avg_price']})\n",
    "                self.position.loc[len(self.position)] = new_row \n",
    "            self.__save_to_csv()\n",
    "                \n",
    "                \n",
    "\n",
    "\n",
    "    def buy_stock(self, date, stock, amount, price):#買股票\n",
    "\n",
    "        '''\n",
    "        to buy stock and update the balance and position\n",
    "        input : stock(Stock) , amount(int)\n",
    "        output : bool   \n",
    "        '''\n",
    "\n",
    "        if price * amount * (1 + self.handling_fee) > self.balance:\n",
    "            print(\"交割餘額不足\")\n",
    "        \n",
    "        else:\n",
    "            print(\"預計交割金額\", price * amount * (1 + self.handling_fee))\n",
    "            if  self.auto == True:\n",
    "                self.balance -= price * amount * (1 + self.handling_fee)\n",
    "                new_row = pd.Series({'date': date,\n",
    "                    'stock_name': stock,\n",
    "                    'amount': amount,\n",
    "                    'price': price * amount * (1 + self.handling_fee),\n",
    "                    'avg_price': price * (1 + self.handling_fee),})\n",
    "                self.record.loc[len(self.record)] = new_row\n",
    "                self.__update()\n",
    "\n",
    "    def sell_stock(self, date, stock, amount, price):\n",
    "\n",
    "        '''\n",
    "        to sell stock and update the balance and position\n",
    "        input : stock(Stock) , amount(int)\n",
    "        output : bool\n",
    "        '''\n",
    "\n",
    "        stock_positions = self.position[self.position['stock_name'] == stock]\n",
    "        if stock_positions['amount'].sum() < amount:\n",
    "            print(\"股票不足\")\n",
    "            return False\n",
    "        print(\"預計獲利金額\", price * amount * (1 - self.handling_fee - 0.003))\n",
    "        \n",
    "        if self.auto == True :\n",
    "            self.balance += price * amount * (1 + self.handling_fee) * 0.997\n",
    "            self.record.loc[len(self.record)] = pd.Series(\n",
    "                {\n",
    "                    'date': date,\n",
    "                    'stock_name': stock,\n",
    "                    'amount': -amount,\n",
    "                    'price': -price * (1 - self.handling_fee - 0.003) * amount,\n",
    "                    'avg_price':  price * (1 - self.handling_fee - 0.003) \n",
    "                },\n",
    "                )\n",
    "            self.__update()\n",
    "            "
   ]
  },
  {
   "cell_type": "markdown",
   "metadata": {},
   "source": [
    "初始化user"
   ]
  },
  {
   "cell_type": "code",
   "execution_count": 2,
   "metadata": {},
   "outputs": [],
   "source": [
    "Jolin = User(\"Jolin\")\n",
    "Jolin.auto = True"
   ]
  },
  {
   "cell_type": "code",
   "execution_count": 3,
   "metadata": {},
   "outputs": [
    {
     "data": {
      "text/html": [
       "<div>\n",
       "<style scoped>\n",
       "    .dataframe tbody tr th:only-of-type {\n",
       "        vertical-align: middle;\n",
       "    }\n",
       "\n",
       "    .dataframe tbody tr th {\n",
       "        vertical-align: top;\n",
       "    }\n",
       "\n",
       "    .dataframe thead th {\n",
       "        text-align: right;\n",
       "    }\n",
       "</style>\n",
       "<table border=\"1\" class=\"dataframe\">\n",
       "  <thead>\n",
       "    <tr style=\"text-align: right;\">\n",
       "      <th></th>\n",
       "      <th>stock_name</th>\n",
       "      <th>amount</th>\n",
       "      <th>price</th>\n",
       "      <th>avg_price</th>\n",
       "    </tr>\n",
       "  </thead>\n",
       "  <tbody>\n",
       "  </tbody>\n",
       "</table>\n",
       "</div>"
      ],
      "text/plain": [
       "Empty DataFrame\n",
       "Columns: [stock_name, amount, price, avg_price]\n",
       "Index: []"
      ]
     },
     "execution_count": 3,
     "metadata": {},
     "output_type": "execute_result"
    }
   ],
   "source": [
    "Jolin.position"
   ]
  },
  {
   "cell_type": "code",
   "execution_count": 4,
   "metadata": {},
   "outputs": [
    {
     "data": {
      "text/html": [
       "<div>\n",
       "<style scoped>\n",
       "    .dataframe tbody tr th:only-of-type {\n",
       "        vertical-align: middle;\n",
       "    }\n",
       "\n",
       "    .dataframe tbody tr th {\n",
       "        vertical-align: top;\n",
       "    }\n",
       "\n",
       "    .dataframe thead th {\n",
       "        text-align: right;\n",
       "    }\n",
       "</style>\n",
       "<table border=\"1\" class=\"dataframe\">\n",
       "  <thead>\n",
       "    <tr style=\"text-align: right;\">\n",
       "      <th></th>\n",
       "      <th>date</th>\n",
       "      <th>stock_name</th>\n",
       "      <th>amount</th>\n",
       "      <th>price</th>\n",
       "      <th>avg_price</th>\n",
       "    </tr>\n",
       "  </thead>\n",
       "  <tbody>\n",
       "  </tbody>\n",
       "</table>\n",
       "</div>"
      ],
      "text/plain": [
       "Empty DataFrame\n",
       "Columns: [date, stock_name, amount, price, avg_price]\n",
       "Index: []"
      ]
     },
     "execution_count": 4,
     "metadata": {},
     "output_type": "execute_result"
    }
   ],
   "source": [
    "Jolin.record"
   ]
  },
  {
   "cell_type": "markdown",
   "metadata": {},
   "source": [
    "# buy stock\n"
   ]
  },
  {
   "cell_type": "code",
   "execution_count": 8,
   "metadata": {},
   "outputs": [
    {
     "name": "stdout",
     "output_type": "stream",
     "text": [
      "預計交割金額 629484.1784683227\n",
      "目前資金: 370515.82153167727\n"
     ]
    },
    {
     "data": {
      "text/html": [
       "<div>\n",
       "<style scoped>\n",
       "    .dataframe tbody tr th:only-of-type {\n",
       "        vertical-align: middle;\n",
       "    }\n",
       "\n",
       "    .dataframe tbody tr th {\n",
       "        vertical-align: top;\n",
       "    }\n",
       "\n",
       "    .dataframe thead th {\n",
       "        text-align: right;\n",
       "    }\n",
       "</style>\n",
       "<table border=\"1\" class=\"dataframe\">\n",
       "  <thead>\n",
       "    <tr style=\"text-align: right;\">\n",
       "      <th></th>\n",
       "      <th>stock_name</th>\n",
       "      <th>amount</th>\n",
       "      <th>price</th>\n",
       "      <th>avg_price</th>\n",
       "    </tr>\n",
       "  </thead>\n",
       "  <tbody>\n",
       "    <tr>\n",
       "      <th>0</th>\n",
       "      <td>2330.TW</td>\n",
       "      <td>1000</td>\n",
       "      <td>629484.178468</td>\n",
       "      <td>629.484178</td>\n",
       "    </tr>\n",
       "  </tbody>\n",
       "</table>\n",
       "</div>"
      ],
      "text/plain": [
       "  stock_name amount          price   avg_price\n",
       "0    2330.TW   1000  629484.178468  629.484178"
      ]
     },
     "execution_count": 8,
     "metadata": {},
     "output_type": "execute_result"
    }
   ],
   "source": [
    "'''\n",
    "產生購買訊號\n",
    "input : date ->datetime , stock -> string , amount -> int , price -> int\n",
    "'''\n",
    "date = dt.datetime(2022,1,4)\n",
    "stock = \"2330.TW\"\n",
    "taiwan_2330 = yf.Ticker(stock)\n",
    "\n",
    "try:\n",
    "  data = taiwan_2330.history(start = date,end = date+dt.timedelta(days=1))\n",
    "  buy_price = data[\"Close\"][0]\n",
    "  Jolin.buy_stock(date,stock,1000,buy_price)\n",
    "except Exception as e:\n",
    "  print(\"今天可能沒有開盤!!\")\n",
    "  \n",
    "print(\"目前資金:\",Jolin.balance)\n",
    "Jolin.position"
   ]
  },
  {
   "cell_type": "markdown",
   "metadata": {},
   "source": [
    "# sell stock"
   ]
  },
  {
   "cell_type": "code",
   "execution_count": 9,
   "metadata": {},
   "outputs": [
    {
     "name": "stdout",
     "output_type": "stream",
     "text": [
      "預計獲利金額 577433.5\n",
      "目前資金: 949599.8420316773\n"
     ]
    },
    {
     "data": {
      "text/html": [
       "<div>\n",
       "<style scoped>\n",
       "    .dataframe tbody tr th:only-of-type {\n",
       "        vertical-align: middle;\n",
       "    }\n",
       "\n",
       "    .dataframe tbody tr th {\n",
       "        vertical-align: top;\n",
       "    }\n",
       "\n",
       "    .dataframe thead th {\n",
       "        text-align: right;\n",
       "    }\n",
       "</style>\n",
       "<table border=\"1\" class=\"dataframe\">\n",
       "  <thead>\n",
       "    <tr style=\"text-align: right;\">\n",
       "      <th></th>\n",
       "      <th>stock_name</th>\n",
       "      <th>amount</th>\n",
       "      <th>price</th>\n",
       "      <th>avg_price</th>\n",
       "    </tr>\n",
       "  </thead>\n",
       "  <tbody>\n",
       "  </tbody>\n",
       "</table>\n",
       "</div>"
      ],
      "text/plain": [
       "Empty DataFrame\n",
       "Columns: [stock_name, amount, price, avg_price]\n",
       "Index: []"
      ]
     },
     "execution_count": 9,
     "metadata": {},
     "output_type": "execute_result"
    }
   ],
   "source": [
    "'''\n",
    "產生賣出訊號\n",
    "input : date ->datetime , stock -> string , amount -> int , price -> int\n",
    "'''\n",
    "date = dt.datetime(2024,1,4)\n",
    "stock = \"2330.TW\"\n",
    "taiwan_2330 = yf.Ticker(stock)\n",
    "try:\n",
    "  data = taiwan_2330.history(start = date,end = date+dt.timedelta(days=1))\n",
    "  sell_price = data[\"Close\"][0]\n",
    "  Jolin.sell_stock(date,stock,1000,sell_price)\n",
    "except Exception as e:\n",
    "  print(\"今天可能沒有開盤!!\")\n",
    "print(\"目前資金:\",Jolin.balance)\n",
    "Jolin.position\n",
    "\n"
   ]
  }
 ],
 "metadata": {
  "kernelspec": {
   "display_name": "base",
   "language": "python",
   "name": "python3"
  },
  "language_info": {
   "codemirror_mode": {
    "name": "ipython",
    "version": 3
   },
   "file_extension": ".py",
   "mimetype": "text/x-python",
   "name": "python",
   "nbconvert_exporter": "python",
   "pygments_lexer": "ipython3",
   "version": "3.9.16"
  }
 },
 "nbformat": 4,
 "nbformat_minor": 2
}
